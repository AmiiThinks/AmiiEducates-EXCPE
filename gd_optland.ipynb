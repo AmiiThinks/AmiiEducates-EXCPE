{
 "cells": [
  {
   "cell_type": "markdown",
   "metadata": {},
   "source": [
    "# Gradient descent and the optimization Landscape"
   ]
  },
  {
   "cell_type": "code",
   "execution_count": null,
   "metadata": {},
   "outputs": [],
   "source": [
    "import numpy as np"
   ]
  },
  {
   "cell_type": "code",
   "execution_count": null,
   "metadata": {},
   "outputs": [],
   "source": [
    "#from mpl_toolkits.mplot3d import Axes3D  \n",
    "#from matplotlib import pyplot as plt\n",
    "#%matplotlib notebook"
   ]
  },
  {
   "cell_type": "code",
   "execution_count": null,
   "metadata": {},
   "outputs": [],
   "source": [
    "import plotly.graph_objs as go\n",
    "from plotly.offline import init_notebook_mode, iplot\n",
    "init_notebook_mode(connected=True)"
   ]
  },
  {
   "cell_type": "code",
   "execution_count": null,
   "metadata": {},
   "outputs": [],
   "source": [
    "def l2(E):\n",
    "    return np.sum(E ** 2., 1) / E.shape[1]\n",
    "\n",
    "def l1(E):\n",
    "    return np.sum(np.abs(E), 1) / E.shape[1]\n",
    "\n",
    "def sqrt(E):\n",
    "    return np.sum(np.sqrt(np.abs(E)), 1) / E.shape[1]\n",
    "\n",
    "def sgn(E):\n",
    "    return np.sum(E > 0., 1) / E.shape[1]\n",
    "\n",
    "def hinge(E):\n",
    "    return np.sum((E < 1.) * (E - 1.), 1) / E.shape[1]\n",
    "\n",
    "def sigmoid(E):\n",
    "    return np.sum(1. / (1. + np.exp(-E * 10.)), 1) / E.shape[1]"
   ]
  },
  {
   "cell_type": "code",
   "execution_count": null,
   "metadata": {},
   "outputs": [],
   "source": [
    "loss = sqrt"
   ]
  },
  {
   "cell_type": "code",
   "execution_count": null,
   "metadata": {},
   "outputs": [],
   "source": [
    "num_points = 4"
   ]
  },
  {
   "cell_type": "code",
   "execution_count": null,
   "metadata": {},
   "outputs": [],
   "source": [
    "W = 2 * np.random.random((num_points, 2)) - 1\n",
    "b = np.random.random((num_points,)) - 0.5"
   ]
  },
  {
   "cell_type": "code",
   "execution_count": null,
   "metadata": {},
   "outputs": [],
   "source": [
    "x_dim = np.linspace(-1., 1., num=100)\n",
    "XX_0, XX_1 = np.meshgrid(x_dim, x_dim)\n",
    "X = np.c_[XX_0.ravel(), XX_1.ravel()]\n",
    "L = loss(X @ W.T + b)\n",
    "LL = L.reshape(XX_0.shape)"
   ]
  },
  {
   "cell_type": "code",
   "execution_count": null,
   "metadata": {},
   "outputs": [],
   "source": [
    "#fig = plt.figure()\n",
    "#ax = fig.add_subplot(111, projection='3d')\n",
    "\n",
    "#ax.plot_surface(XX_0, XX_1, LL)\n",
    "\n",
    "#plt.show()"
   ]
  },
  {
   "cell_type": "code",
   "execution_count": null,
   "metadata": {},
   "outputs": [],
   "source": [
    "data = [\n",
    "    go.Surface(\n",
    "        x=XX_0,\n",
    "        y=XX_1,\n",
    "        z=LL\n",
    "    )\n",
    "]\n",
    "layout = go.Layout(\n",
    "    title='The landscape of losses',\n",
    "    autosize=False,\n",
    "    width=500,\n",
    "    height=500,\n",
    "    margin=dict(\n",
    "        l=65,\n",
    "        r=50,\n",
    "        b=65,\n",
    "        t=90\n",
    "    )\n",
    ")\n",
    "fig = go.Figure(data=data, layout=layout)\n",
    "iplot(fig, filename='elevations-3d-surface')"
   ]
  },
  {
   "cell_type": "code",
   "execution_count": null,
   "metadata": {},
   "outputs": [],
   "source": []
  }
 ],
 "metadata": {
  "kernelspec": {
   "display_name": "Python 3",
   "language": "python",
   "name": "python3"
  },
  "language_info": {
   "codemirror_mode": {
    "name": "ipython",
    "version": 3
   },
   "file_extension": ".py",
   "mimetype": "text/x-python",
   "name": "python",
   "nbconvert_exporter": "python",
   "pygments_lexer": "ipython3",
   "version": "3.7.3"
  }
 },
 "nbformat": 4,
 "nbformat_minor": 2
}
