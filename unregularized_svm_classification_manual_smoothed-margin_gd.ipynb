{
 "cells": [
  {
   "cell_type": "markdown",
   "metadata": {},
   "source": [
    "# Unregularized SVM Classification"
   ]
  },
  {
   "cell_type": "markdown",
   "metadata": {},
   "source": [
    "### Setting up the environment"
   ]
  },
  {
   "cell_type": "code",
   "execution_count": null,
   "metadata": {},
   "outputs": [],
   "source": [
    "import numpy as np\n",
    "from matplotlib import pyplot as plt\n",
    "import seaborn as sns\n",
    "from IPython.display import HTML\n",
    "from celluloid import Camera\n",
    "%matplotlib notebook\n",
    "sns.set()\n",
    "np.random.seed(100)"
   ]
  },
  {
   "cell_type": "markdown",
   "metadata": {},
   "source": [
    "### Generating data"
   ]
  },
  {
   "cell_type": "code",
   "execution_count": null,
   "metadata": {},
   "outputs": [],
   "source": [
    "# Parameters\n",
    "num_dims = 2\n",
    "num_data_points = 100\n",
    "data_size = (num_data_points, num_dims)\n",
    "x_scale = np.array([[20., 20.]])\n",
    "x_offset = np.array([[-10., -10.]])\n",
    "noise_scale = 8.\n",
    "weights_scale = np.array([10., 10.])\n",
    "weights_offset = np.array([-5., -5.])\n",
    "\n",
    "weights = (np.random.random((num_dims,)) * weights_scale) + weights_offset"
   ]
  },
  {
   "cell_type": "code",
   "execution_count": null,
   "metadata": {},
   "outputs": [],
   "source": [
    "# Generating the data\n",
    "X = (np.random.random(data_size) * np.tile(x_scale, (num_data_points, 1))) + np.tile(x_offset, (num_data_points, 1))\n",
    "\n",
    "Xa = np.concatenate((np.ones((num_data_points, 1)), X[:, :-1]), 1)\n",
    "z = (Xa @ weights) + np.random.normal(0., noise_scale, (num_data_points,))\n",
    "classes = (z > X[:, -1]).astype(int)\n",
    "y = (2 * classes) - 1"
   ]
  },
  {
   "cell_type": "code",
   "execution_count": null,
   "metadata": {},
   "outputs": [],
   "source": [
    "# Visualization\n",
    "fig_data = plt.figure()\n",
    "plt.xlabel('x')\n",
    "plt.xlim((-10, 10))\n",
    "plt.ylabel('y')\n",
    "plt.ylim((-10, 10))\n",
    "plt.title('Data')\n",
    "ax = sns.scatterplot(x=X[:, 0], y=X[:, 1], hue=classes, legend=False)\n",
    "sns.lineplot(x=Xa[:, 1], y=Xa @ weights, color='black', legend=False, ax=ax)\n",
    "plt.show()"
   ]
  },
  {
   "cell_type": "markdown",
   "metadata": {},
   "source": [
    "### Classification"
   ]
  },
  {
   "cell_type": "code",
   "execution_count": null,
   "metadata": {},
   "outputs": [],
   "source": [
    "# Parameters\n",
    "alpha = 1e-4\n",
    "tolerance = 1e-2\n",
    "max_iterations = 1000"
   ]
  },
  {
   "cell_type": "code",
   "execution_count": null,
   "metadata": {
    "scrolled": true
   },
   "outputs": [],
   "source": [
    "# Classification\n",
    "trace_w = []\n",
    "trace_b = []\n",
    "\n",
    "iteration = 0\n",
    "last_loss = np.infty\n",
    "w = 10 * np.random.random((num_dims,)) - 5\n",
    "b = np.random.random()\n",
    "trace_w.append(w.copy())\n",
    "trace_b.append(b)\n",
    "zhat = (X @ w) + b\n",
    "mhat = y * zhat\n",
    "p1 = (mhat < 0)\n",
    "p2 = np.logical_and(np.logical_not(p1), (mhat < 1))\n",
    "loss = -np.sum(mhat[p1])\n",
    "while np.abs(last_loss - loss) > tolerance:\n",
    "    iteration += 1\n",
    "    if iteration > max_iterations:\n",
    "        iteration -= 1\n",
    "        break\n",
    "    a1 = -y[None, p1]\n",
    "    a2 = -y[None, p2] - zhat[None, p2]\n",
    "    nabla_w = np.squeeze((a1 @ X[p1, :]) + (a2 @ X[p2, :]))\n",
    "    nabla_b = np.squeeze(np.sum(a1) + np.sum(a2))\n",
    "    w -= alpha * nabla_w\n",
    "    b -= alpha * nabla_b\n",
    "    trace_w.append(w.copy())\n",
    "    trace_b.append(b)\n",
    "    zhat = (X @ w) + b\n",
    "    mhat = y * zhat\n",
    "    p1 = (mhat < 0)\n",
    "    p2 = np.logical_and(np.logical_not(p1), (mhat < 1))\n",
    "    last_loss = loss\n",
    "    loss = -np.sum(mhat[p1])\n",
    "print(\"SVM finished after \" + str(iteration) + \" iterations.\")"
   ]
  },
  {
   "cell_type": "code",
   "execution_count": null,
   "metadata": {},
   "outputs": [],
   "source": [
    "%%capture\n",
    "# Creating animated vissualization\n",
    "fig = plt.figure()\n",
    "camera = Camera(fig)\n",
    "plt.xlabel('x')\n",
    "plt.ylabel('y')\n",
    "\n",
    "plt.title('SVM Classification')\n",
    "\n",
    "for i in range(iteration):\n",
    "    w = trace_w[i]\n",
    "    b = trace_b[i]\n",
    "    ax = sns.scatterplot(x=X[:, 0], y=X[:, 1], hue=classes, legend=False)\n",
    "    sns.lineplot(x=np.array([-10, 10]), y=-((np.array([-10, 10]) * w[0]) + b) / w[1], color='black', legend=False, ax=ax)\n",
    "    plt.xlim((-10, 10))\n",
    "    plt.ylim((-10, 10))\n",
    "    camera.snap()\n",
    "\n",
    "animation = camera.animate()\n",
    "ax = sns.scatterplot(x=X[:, 0], y=X[:, 1], hue=classes, legend=False)\n",
    "plt.show()"
   ]
  },
  {
   "cell_type": "code",
   "execution_count": null,
   "metadata": {},
   "outputs": [],
   "source": [
    "# Playing the animation\n",
    "HTML(animation.to_jshtml())"
   ]
  },
  {
   "cell_type": "code",
   "execution_count": null,
   "metadata": {},
   "outputs": [],
   "source": []
  }
 ],
 "metadata": {
  "kernelspec": {
   "display_name": "Python 3",
   "language": "python",
   "name": "python3"
  },
  "language_info": {
   "codemirror_mode": {
    "name": "ipython",
    "version": 3
   },
   "file_extension": ".py",
   "mimetype": "text/x-python",
   "name": "python",
   "nbconvert_exporter": "python",
   "pygments_lexer": "ipython3",
   "version": "3.7.3"
  }
 },
 "nbformat": 4,
 "nbformat_minor": 2
}
