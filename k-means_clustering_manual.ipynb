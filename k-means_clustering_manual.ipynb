{
 "cells": [
  {
   "cell_type": "markdown",
   "metadata": {},
   "source": [
    "# k-Means Clustering"
   ]
  },
  {
   "cell_type": "markdown",
   "metadata": {},
   "source": [
    "### Setting up the environment"
   ]
  },
  {
   "cell_type": "code",
   "execution_count": null,
   "metadata": {},
   "outputs": [],
   "source": [
    "import numpy as np\n",
    "from matplotlib import pyplot as plt\n",
    "import seaborn as sns\n",
    "from IPython.display import HTML\n",
    "from celluloid import Camera\n",
    "%matplotlib notebook\n",
    "sns.set()\n",
    "np.random.seed(20)"
   ]
  },
  {
   "cell_type": "markdown",
   "metadata": {},
   "source": [
    "### Generating data"
   ]
  },
  {
   "cell_type": "code",
   "execution_count": null,
   "metadata": {},
   "outputs": [],
   "source": [
    "# Parameters\n",
    "num_dims = 2\n",
    "gen_k = 5\n",
    "gen_class_centre_means = 20. * np.random.random((gen_k, num_dims)) - 10.\n",
    "gen_class_centre_covs = ((5. * np.random.random((gen_k, 1))) @ np.eye(num_dims)[:, None, :]).transpose(1, 0, 2)\n",
    "gen_num_class_points = 40\n",
    "\n",
    "num_data_points = gen_k * gen_num_class_points"
   ]
  },
  {
   "cell_type": "code",
   "execution_count": null,
   "metadata": {},
   "outputs": [],
   "source": [
    "# Generating the data\n",
    "X = np.zeros((num_data_points, num_dims))\n",
    "y = np.zeros((num_data_points,), dtype=int)\n",
    "for i in range(gen_k):\n",
    "    ind_slice = (i * gen_num_class_points) + np.arange(gen_num_class_points, dtype=int)\n",
    "    X[ind_slice] = np.random.multivariate_normal(gen_class_centre_means[i], gen_class_centre_covs[i], (gen_num_class_points,))\n",
    "    y[ind_slice] = i"
   ]
  },
  {
   "cell_type": "code",
   "execution_count": null,
   "metadata": {},
   "outputs": [],
   "source": [
    "# Visualization\n",
    "fig_data = plt.figure()\n",
    "plt.xlabel('x')\n",
    "plt.xlim((-10, 10))\n",
    "plt.ylabel('y')\n",
    "plt.ylim((-10, 10))\n",
    "plt.title('Data')\n",
    "ax = sns.scatterplot(x=gen_class_centre_means[:, 0], y=gen_class_centre_means[:, 1], hue=np.arange(gen_k), marker='x', legend=False)\n",
    "sns.scatterplot(x=X[:, 0], y=X[:, 1], hue=y, legend=False, ax=ax)\n",
    "plt.show()"
   ]
  },
  {
   "cell_type": "markdown",
   "metadata": {},
   "source": [
    "### Clustering"
   ]
  },
  {
   "cell_type": "code",
   "execution_count": null,
   "metadata": {},
   "outputs": [],
   "source": [
    "# Parameters\n",
    "k = 5"
   ]
  },
  {
   "cell_type": "code",
   "execution_count": null,
   "metadata": {},
   "outputs": [],
   "source": [
    "# Clustreing\n",
    "trace_centres = []\n",
    "trace_y = []\n",
    "\n",
    "iteration = 0\n",
    "last_y = np.zeros((num_data_points,), dtype=int)\n",
    "y = np.random.randint(0, k, (num_data_points,))\n",
    "trace_y.append(y.copy())\n",
    "centres = np.zeros((k, num_dims))\n",
    "for i in np.arange(k):\n",
    "    centres[i, :] = np.average(X[y == i, :], 0)\n",
    "trace_centres.append(centres.copy())\n",
    "\n",
    "while np.any(y != last_y):\n",
    "    iteration += 1\n",
    "    distances_sq = np.sum((np.tile(X[:, :, None], (1, 1, k)) - np.tile(centres[:, :, None].transpose((2, 1, 0)), (num_data_points, 1, 1))) ** 2, 1)\n",
    "    last_y = y\n",
    "    y = np.argmin(distances_sq, 1)\n",
    "    trace_y.append(y.copy())\n",
    "    for i in np.arange(k):\n",
    "        cluster_data_points = X[y == i, :]\n",
    "        if cluster_data_points.shape[0] > 0:\n",
    "            centres[i, :] = np.average(cluster_data_points, 0)\n",
    "        else:\n",
    "            centres[i, :] = X[np.random.randint(0, num_data_points), :]\n",
    "    trace_centres.append(centres.copy())\n",
    "print(\"k-Means finished after \" + str(iteration) + \" iterations.\")"
   ]
  },
  {
   "cell_type": "code",
   "execution_count": null,
   "metadata": {},
   "outputs": [],
   "source": [
    "%%capture\n",
    "# Creating animated vissualization\n",
    "fig = plt.figure()\n",
    "camera = Camera(fig)\n",
    "plt.xlabel('x')\n",
    "plt.ylabel('y')\n",
    "\n",
    "plt.title('k-Means clustering')\n",
    "\n",
    "for i in range(iteration):\n",
    "    y = trace_y[i]\n",
    "    centres = trace_centres[i]\n",
    "    ax = sns.scatterplot(x=centres[:, 0], y=centres[:, 1], hue=np.arange(gen_k), marker='x', legend=False)\n",
    "    sns.scatterplot(x=X[:, 0], y=X[:, 1], hue=y, legend=False, ax=ax)\n",
    "    plt.xlim((-10, 10))\n",
    "    plt.ylim((-10, 10))\n",
    "    camera.snap()\n",
    "\n",
    "animation = camera.animate()\n",
    "plt.show()"
   ]
  },
  {
   "cell_type": "code",
   "execution_count": null,
   "metadata": {
    "scrolled": true
   },
   "outputs": [],
   "source": [
    "# Playing the animation\n",
    "HTML(animation.to_jshtml())"
   ]
  },
  {
   "cell_type": "code",
   "execution_count": null,
   "metadata": {},
   "outputs": [],
   "source": []
  }
 ],
 "metadata": {
  "kernelspec": {
   "display_name": "Python 3",
   "language": "python",
   "name": "python3"
  },
  "language_info": {
   "codemirror_mode": {
    "name": "ipython",
    "version": 3
   },
   "file_extension": ".py",
   "mimetype": "text/x-python",
   "name": "python",
   "nbconvert_exporter": "python",
   "pygments_lexer": "ipython3",
   "version": "3.7.3"
  }
 },
 "nbformat": 4,
 "nbformat_minor": 2
}
