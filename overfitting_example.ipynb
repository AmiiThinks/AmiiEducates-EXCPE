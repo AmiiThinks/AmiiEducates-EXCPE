{
 "cells": [
  {
   "cell_type": "markdown",
   "metadata": {},
   "source": [
    "# Overfitting Example"
   ]
  },
  {
   "cell_type": "markdown",
   "metadata": {},
   "source": [
    "### Setting up the environment"
   ]
  },
  {
   "cell_type": "code",
   "execution_count": null,
   "metadata": {},
   "outputs": [],
   "source": [
    "import numpy as np\n",
    "from sklearn.kernel_ridge import KernelRidge\n",
    "from sklearn.metrics import mean_absolute_error\n",
    "from matplotlib import pyplot as plt\n",
    "import seaborn as sns\n",
    "%matplotlib notebook\n",
    "plt.rcParams['figure.figsize'] = [8, 8]\n",
    "sns.set()\n",
    "np.random.seed(100)"
   ]
  },
  {
   "cell_type": "markdown",
   "metadata": {},
   "source": [
    "### Generating data"
   ]
  },
  {
   "cell_type": "code",
   "execution_count": null,
   "metadata": {},
   "outputs": [],
   "source": [
    "# Parameters\n",
    "num_dims = 1\n",
    "num_data_points = 50\n",
    "data_size = (num_data_points, num_dims)\n",
    "x_scale = 2.\n",
    "x_offset = -1.\n",
    "noise_scale = 0.5\n",
    "weights_scale = np.array([10., 6.])\n",
    "weights_offset = np.array([-5., -3.])\n",
    "\n",
    "weights = (np.random.random((num_dims + 1,)) * weights_scale) + weights_offset\n",
    "\n",
    "split = 10"
   ]
  },
  {
   "cell_type": "code",
   "execution_count": null,
   "metadata": {},
   "outputs": [],
   "source": [
    "# Generating the data\n",
    "X = (np.random.random(data_size) * x_scale) + x_offset\n",
    "\n",
    "Xa = np.concatenate((np.ones((num_data_points, 1)), X), 1)\n",
    "y = (Xa @ weights) + np.random.normal(0., noise_scale, (num_data_points,))"
   ]
  },
  {
   "cell_type": "code",
   "execution_count": null,
   "metadata": {},
   "outputs": [],
   "source": [
    "# Visualization\n",
    "X_train = X[:split, :]\n",
    "y_train = y[:split]\n",
    "\n",
    "fig_data = plt.figure()\n",
    "plt.xlabel('x')\n",
    "plt.xlim((-2, 2))\n",
    "plt.ylabel('y')\n",
    "plt.ylim((-2, 2))\n",
    "plt.title('Training data')\n",
    "ax_data = sns.scatterplot(x=X_train.squeeze(), y=y_train)\n",
    "plt.show()"
   ]
  },
  {
   "cell_type": "markdown",
   "metadata": {},
   "source": [
    "### Regression"
   ]
  },
  {
   "cell_type": "code",
   "execution_count": null,
   "metadata": {},
   "outputs": [],
   "source": [
    "# Training two models\n",
    "rl = KernelRidge(kernel='linear')\n",
    "rp = KernelRidge(alpha = 0., kernel='polynomial', degree=split - 1)\n",
    "rl.fit(X_train, y_train);\n",
    "rp.fit(X_train, y_train);"
   ]
  },
  {
   "cell_type": "code",
   "execution_count": null,
   "metadata": {},
   "outputs": [],
   "source": [
    "# Creating a vissualization of final result\n",
    "fig, axs = plt.subplots(nrows=1, ncols=2)\n",
    "axs[0].set_xlabel('x')\n",
    "axs[1].set_xlabel('x')\n",
    "axs[0].set_ylabel('y')\n",
    "axs[1].set_ylabel('y')\n",
    "\n",
    "plt.title('Two models')\n",
    "X_vis = np.linspace(-2, 2, 100)[:, None]\n",
    "yl_vis = rl.predict(X_vis)\n",
    "yp_vis = rp.predict(X_vis)\n",
    "axs[0] = sns.scatterplot(x=X_train[:, 0], y=y_train, legend=False, ax=axs[0])\n",
    "axs[1] = sns.scatterplot(x=X_train[:, 0], y=y_train, legend=False, ax=axs[1])\n",
    "sns.lineplot(x=X_vis[:, 0], y=yl_vis, color='black', legend=False, ax=axs[0])\n",
    "sns.lineplot(x=X_vis[:, 0], y=yp_vis, color='black', legend=False, ax=axs[1])\n",
    "axs[0].set_xlim((-1.5, 1.5))\n",
    "axs[1].set_xlim((-1.5, 1.5))\n",
    "axs[0].set_ylim((-3., 3.))\n",
    "axs[1].set_ylim((-3., 3.))\n",
    "\n",
    "plt.show()"
   ]
  },
  {
   "cell_type": "code",
   "execution_count": null,
   "metadata": {},
   "outputs": [],
   "source": [
    "# Creating a vissualization of final result\n",
    "X_test = X[split:, :]\n",
    "y_test = y[split:]\n",
    "yhatl_test = rl.predict(X_test)\n",
    "yhatp_test = rp.predict(X_test)\n",
    "\n",
    "fig, axs = plt.subplots(nrows=1, ncols=2)\n",
    "axs[0].set_xlabel('x')\n",
    "axs[1].set_xlabel('x')\n",
    "axs[0].set_ylabel('y')\n",
    "axs[1].set_ylabel('y')\n",
    "X_vis = np.linspace(-2, 2, 100)[:, None]\n",
    "yl_vis = rl.predict(X_vis)\n",
    "yp_vis = rp.predict(X_vis)\n",
    "axs[0] = sns.scatterplot(x=X[:, 0], y=y, legend=False, ax=axs[0])\n",
    "axs[1] = sns.scatterplot(x=X[:, 0], y=y, legend=False, ax=axs[1])\n",
    "sns.lineplot(x=X_vis[:, 0], y=yl_vis, color='black', legend=False, ax=axs[0])\n",
    "sns.lineplot(x=X_vis[:, 0], y=yp_vis, color='black', legend=False, ax=axs[1])\n",
    "axs[0].set_xlim((-1.5, 1.5))\n",
    "axs[1].set_xlim((-1.5, 1.5))\n",
    "axs[0].set_ylim((-3., 3.))\n",
    "axs[1].set_ylim((-3., 3.))\n",
    "axs[0].set_title('MAE = ' + str(mean_absolute_error(y_test, yhatl_test)))\n",
    "axs[1].set_title('MAE = ' + str(mean_absolute_error(y_test, yhatp_test)))\n",
    "print('Mean absolute errors compared (on test data):')\n",
    "plt.show()"
   ]
  },
  {
   "cell_type": "code",
   "execution_count": null,
   "metadata": {},
   "outputs": [],
   "source": []
  }
 ],
 "metadata": {
  "kernelspec": {
   "display_name": "Python 3",
   "language": "python",
   "name": "python3"
  },
  "language_info": {
   "codemirror_mode": {
    "name": "ipython",
    "version": 3
   },
   "file_extension": ".py",
   "mimetype": "text/x-python",
   "name": "python",
   "nbconvert_exporter": "python",
   "pygments_lexer": "ipython3",
   "version": "3.7.3"
  }
 },
 "nbformat": 4,
 "nbformat_minor": 2
}
