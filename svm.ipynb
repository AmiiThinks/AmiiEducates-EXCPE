{
 "cells": [
  {
   "cell_type": "markdown",
   "metadata": {},
   "source": [
    "# SVM"
   ]
  },
  {
   "cell_type": "code",
   "execution_count": null,
   "metadata": {},
   "outputs": [],
   "source": [
    "import numpy as np\n",
    "from sklearn.svm import SVC\n",
    "from sklearn import datasets\n",
    "from sklearn.model_selection import train_test_split\n",
    "from matplotlib import pyplot as plt\n",
    "np.random.seed(100)"
   ]
  },
  {
   "cell_type": "code",
   "execution_count": null,
   "metadata": {},
   "outputs": [],
   "source": [
    "X, y = datasets.make_blobs(n_samples=100, centers=2, random_state=42)\n",
    "\n",
    "X_train, X_test, y_train, y_test = train_test_split(X, y, test_size=0.33, random_state=42)"
   ]
  },
  {
   "cell_type": "code",
   "execution_count": null,
   "metadata": {},
   "outputs": [],
   "source": [
    "kernel = 'linear'\n",
    "#kernel = 'sigmoid'\n",
    "#kernel = 'rbf'\n",
    "#kernel = 'poly'\n",
    "degree = 3"
   ]
  },
  {
   "cell_type": "code",
   "execution_count": null,
   "metadata": {},
   "outputs": [],
   "source": [
    "svm = SVC(C=1000., kernel=kernel, degree=degree, gamma='scale')\n",
    "svm.fit(X_train, y_train);"
   ]
  },
  {
   "cell_type": "code",
   "execution_count": null,
   "metadata": {},
   "outputs": [],
   "source": [
    "plt.figure()\n",
    "ax = plt.gca()\n",
    "\n",
    "ax.scatter(X_train[:, 0], X_train[:, 1], c=(2 * y_train) + 1, s=30, cmap=plt.cm.tab20, vmin=0., vmax=19.)\n",
    "\n",
    "(d0, d1) = (30, 30)\n",
    "\n",
    "(x_v0_min, x_v0_max) = (np.min(X[:, 0]), np.max(X[:, 0]))\n",
    "(x_v1_min, x_v1_max) = (np.min(X[:, 1]), np.max(X[:, 1]))\n",
    "\n",
    "x_v0 = np.linspace(x_v0_min, x_v0_max, d0)\n",
    "x_v1 = np.linspace(x_v1_min, x_v1_max, d1)\n",
    "\n",
    "(XX_v0, XX_v1) = np.meshgrid(x_v0, x_v1)\n",
    "\n",
    "X_v = np.c_[XX_v0.ravel(), XX_v1.ravel()]\n",
    "YY = svm.decision_function(X_v).reshape(XX_v0.shape)\n",
    "\n",
    "ax.scatter(X_test[:, 0], X_test[:, 1], c=2 * y_test, s=30)\n",
    "ax.contour(XX_v0, XX_v1, YY, colors='k', levels=[-1, 0, 1], alpha=0.5, linestyles=['--', '-', '--'])\n",
    "ax.scatter(svm.support_vectors_[:, 0], svm.support_vectors_[:, 1], s=100, linewidth=1, facecolors='none', edgecolors='k')\n",
    "ax.set_xlim([x_v0_min, x_v0_max])\n",
    "ax.set_ylim([x_v1_min, x_v1_max])\n",
    "plt.show()"
   ]
  },
  {
   "cell_type": "code",
   "execution_count": null,
   "metadata": {},
   "outputs": [],
   "source": []
  }
 ],
 "metadata": {
  "kernelspec": {
   "display_name": "Python 3",
   "language": "python",
   "name": "python3"
  },
  "language_info": {
   "codemirror_mode": {
    "name": "ipython",
    "version": 3
   },
   "file_extension": ".py",
   "mimetype": "text/x-python",
   "name": "python",
   "nbconvert_exporter": "python",
   "pygments_lexer": "ipython3",
   "version": "3.7.3"
  }
 },
 "nbformat": 4,
 "nbformat_minor": 2
}
