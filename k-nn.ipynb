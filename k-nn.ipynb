{
 "cells": [
  {
   "cell_type": "markdown",
   "metadata": {},
   "source": [
    "# k-Nearest Neighbours Classification"
   ]
  },
  {
   "cell_type": "markdown",
   "metadata": {},
   "source": [
    "## Setting up the environment"
   ]
  },
  {
   "cell_type": "code",
   "execution_count": null,
   "metadata": {},
   "outputs": [],
   "source": [
    "import numpy as np\n",
    "from sklearn.neighbors import KNeighborsClassifier\n",
    "from sklearn.metrics import accuracy_score\n",
    "import sklearn.datasets as datasets\n",
    "from matplotlib import pyplot as plt\n",
    "import seaborn as sns\n",
    "%matplotlib notebook\n",
    "plt.rcParams['figure.figsize'] = [8, 8]\n",
    "np.random.seed(30)"
   ]
  },
  {
   "cell_type": "markdown",
   "metadata": {},
   "source": [
    "## Loading and splitting data"
   ]
  },
  {
   "cell_type": "code",
   "execution_count": null,
   "metadata": {},
   "outputs": [],
   "source": [
    "iris = datasets.load_iris()\n",
    "X = iris.data[:, :2]\n",
    "y = iris.target\n",
    "\n",
    "split = 100\n",
    "i = np.random.permutation(np.arange(150))\n",
    "\n",
    "X_train = X[i][:split, :]\n",
    "y_train = y[i][:split]\n",
    "X_test = X[i][split:, :]\n",
    "y_test = y[i][split:]"
   ]
  },
  {
   "cell_type": "markdown",
   "metadata": {},
   "source": [
    "## k-NN"
   ]
  },
  {
   "cell_type": "markdown",
   "metadata": {},
   "source": [
    "### Parameters"
   ]
  },
  {
   "cell_type": "code",
   "execution_count": null,
   "metadata": {},
   "outputs": [],
   "source": [
    "k = 3"
   ]
  },
  {
   "cell_type": "markdown",
   "metadata": {},
   "source": [
    "### The algorithm"
   ]
  },
  {
   "cell_type": "code",
   "execution_count": null,
   "metadata": {},
   "outputs": [],
   "source": [
    "def my_knn_predict(X_tr, y_tr, num_neighbours, distance_measure, x):\n",
    "    num_data_points_train = X_tr.shape[0]\n",
    "    distances = np.inf * np.ones((num_data_points_train,))\n",
    "    for i in range(num_data_points_train):\n",
    "        distances[i] = distance_measure(x, X_tr[i, :])\n",
    "    nearest = np.argsort(distances)\n",
    "    prediction = np.max(y_tr[nearest][:num_neighbours])\n",
    "    return prediction"
   ]
  },
  {
   "cell_type": "code",
   "execution_count": null,
   "metadata": {},
   "outputs": [],
   "source": [
    "def euclidian_distance(p, q):\n",
    "    return np.sqrt((p - q) @ (p - q))"
   ]
  },
  {
   "cell_type": "markdown",
   "metadata": {},
   "source": [
    "### Classifying test data"
   ]
  },
  {
   "cell_type": "code",
   "execution_count": null,
   "metadata": {},
   "outputs": [],
   "source": [
    "num_data_points_test = X_test.shape[0]\n",
    "yhat2_test = -1 * np.ones((num_data_points_test,), dtype=int)\n",
    "for i in range(num_data_points_test):\n",
    "    yhat2_test[i] = my_knn_predict(X_train, y_train, k, euclidian_distance, X_test[i, :])"
   ]
  },
  {
   "cell_type": "markdown",
   "metadata": {},
   "source": [
    "## Visualization"
   ]
  },
  {
   "cell_type": "code",
   "execution_count": null,
   "metadata": {},
   "outputs": [],
   "source": [
    "# Parameters\n",
    "h = 0.02\n",
    "\n",
    "(x_v0_min, x_v0_max) = (X[:, 0].min() - 0.5, X[:, 0].max() + 0.5)\n",
    "(x_v1_min, x_v1_max) = (X[:, 1].min() - 0.5, X[:, 1].max() + 0.5)\n",
    "(XX_v0, XX_v1) = np.meshgrid(np.arange(x_v0_min, x_v0_max, h), np.arange(x_v1_min, x_v1_max, h))\n",
    "\n",
    "XX_v = np.c_[XX_v0.ravel(), XX_v1.ravel()]\n",
    "num_data_points_v = XX_v.shape[0]\n",
    "yhat2_v = -1 * np.ones((num_data_points_v,), dtype=int)\n",
    "for i in range(num_data_points_v):\n",
    "    yhat2_v[i] = my_knn_predict(X_train, y_train, k, euclidian_distance, XX_v[i, :])\n",
    "\n",
    "YYhat2_v = yhat2_v.reshape(XX_v0.shape)\n",
    "plt.figure()\n",
    "plt.set_cmap(plt.cm.tab20)\n",
    "plt.pcolormesh(XX_v0, XX_v1, (2 * YYhat2_v) + 1, vmin=0, vmax=19)\n",
    "\n",
    "plt.scatter(X_train[:,0], X_train[:,1], c=(2 * y_train) + 1, vmin=0, vmax=19, edgecolors='black')\n",
    "plt.scatter(X_test[:,0], X_test[:,1], c=2 * y_test, vmin=0, vmax=19, edgecolors='black')\n",
    "plt.xlabel('Sepal length')\n",
    "plt.ylabel('Sepal width')\n",
    "\n",
    "plt.xlim(XX_v0.min(), XX_v0.max())\n",
    "plt.ylim(XX_v1.min(), XX_v1.max())\n",
    "plt.xticks(())\n",
    "plt.yticks(())\n",
    "\n",
    "plt.show()"
   ]
  },
  {
   "cell_type": "markdown",
   "metadata": {},
   "source": [
    "## Using scikit-learn"
   ]
  },
  {
   "cell_type": "markdown",
   "metadata": {},
   "source": [
    "### Parameters"
   ]
  },
  {
   "cell_type": "code",
   "execution_count": null,
   "metadata": {},
   "outputs": [],
   "source": [
    "k = 3"
   ]
  },
  {
   "cell_type": "markdown",
   "metadata": {},
   "source": [
    "### The algorithm"
   ]
  },
  {
   "cell_type": "code",
   "execution_count": null,
   "metadata": {},
   "outputs": [],
   "source": [
    "knn = KNeighborsClassifier(n_neighbors=k)\n",
    "knn.fit(X_train, y_train);"
   ]
  },
  {
   "cell_type": "markdown",
   "metadata": {},
   "source": [
    "### Classifying test data"
   ]
  },
  {
   "cell_type": "code",
   "execution_count": null,
   "metadata": {},
   "outputs": [],
   "source": [
    "yhat_test = knn.predict(X_test)"
   ]
  },
  {
   "cell_type": "markdown",
   "metadata": {},
   "source": [
    "## Visualization"
   ]
  },
  {
   "cell_type": "code",
   "execution_count": null,
   "metadata": {},
   "outputs": [],
   "source": [
    "(x_v0_min, x_v0_max) = (X[:, 0].min() - 0.5, X[:, 0].max() + 0.5)\n",
    "(x_v1_min, x_v1_max) = (X[:, 1].min() - 0.5, X[:, 1].max() + 0.5)\n",
    "(XX_v0, XX_v1) = np.meshgrid(np.arange(x_v0_min, x_v0_max, h), np.arange(x_v1_min, x_v1_max, h))\n",
    "yhat_v = knn.predict(np.c_[XX_v0.ravel(), XX_v1.ravel()])\n",
    "\n",
    "YYhat_v = yhat_v.reshape(XX_v0.shape)\n",
    "plt.figure()\n",
    "plt.set_cmap(plt.cm.tab20)\n",
    "plt.pcolormesh(XX_v0, XX_v1, (2 * YYhat_v) + 1, vmin=0, vmax=19)\n",
    "\n",
    "plt.scatter(X_train[:,0], X_train[:,1], c=(2 * y_train) + 1, vmin=0, vmax=19, edgecolors='black')\n",
    "plt.scatter(X_test[:,0], X_test[:,1], c=2 * y_test, vmin=0, vmax=19, edgecolors='black')\n",
    "plt.xlabel('Sepal length')\n",
    "plt.ylabel('Sepal width')\n",
    "\n",
    "plt.xlim(XX_v0.min(), XX_v0.max())\n",
    "plt.ylim(XX_v1.min(), XX_v1.max())\n",
    "plt.xticks(())\n",
    "plt.yticks(())\n",
    "\n",
    "plt.show()"
   ]
  },
  {
   "cell_type": "code",
   "execution_count": null,
   "metadata": {},
   "outputs": [],
   "source": []
  }
 ],
 "metadata": {
  "kernelspec": {
   "display_name": "Python 3",
   "language": "python",
   "name": "python3"
  },
  "language_info": {
   "codemirror_mode": {
    "name": "ipython",
    "version": 3
   },
   "file_extension": ".py",
   "mimetype": "text/x-python",
   "name": "python",
   "nbconvert_exporter": "python",
   "pygments_lexer": "ipython3",
   "version": "3.7.3"
  }
 },
 "nbformat": 4,
 "nbformat_minor": 2
}
