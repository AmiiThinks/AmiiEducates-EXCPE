{
 "cells": [
  {
   "cell_type": "markdown",
   "metadata": {},
   "source": [
    "# Some machine learning examples"
   ]
  },
  {
   "cell_type": "code",
   "execution_count": null,
   "metadata": {},
   "outputs": [],
   "source": [
    "import numpy as np\n",
    "from matplotlib import pyplot as plt\n",
    "from matplotlib import cm\n",
    "import seaborn as sns\n",
    "from IPython.display import HTML\n",
    "from celluloid import Camera\n",
    "%matplotlib notebook\n",
    "sns.set()"
   ]
  },
  {
   "cell_type": "markdown",
   "metadata": {},
   "source": [
    "## Example 1"
   ]
  },
  {
   "cell_type": "markdown",
   "metadata": {},
   "source": [
    "### Generating data"
   ]
  },
  {
   "cell_type": "code",
   "execution_count": null,
   "metadata": {},
   "outputs": [],
   "source": [
    "np.random.seed(100)\n",
    "\n",
    "# Parameters\n",
    "num_dims = 1\n",
    "num_data_points = 50\n",
    "data_size = (num_data_points, num_dims)\n",
    "x_scale = 20.\n",
    "x_offset = -10.\n",
    "noise_scale = 5.\n",
    "weights_scale = np.array([10., 6.])\n",
    "weights_offset = np.array([-5., -3.])\n",
    "\n",
    "weights = (np.random.random((num_dims + 1,)) * weights_scale) + weights_offset"
   ]
  },
  {
   "cell_type": "code",
   "execution_count": null,
   "metadata": {},
   "outputs": [],
   "source": [
    "# Generating the data\n",
    "X = (np.random.random(data_size) * x_scale) + x_offset\n",
    "\n",
    "Xa = np.concatenate((np.ones((num_data_points, 1)), X), 1)\n",
    "y = (Xa @ weights) + np.random.normal(0., noise_scale, (num_data_points,))"
   ]
  },
  {
   "cell_type": "markdown",
   "metadata": {},
   "source": [
    "### Visualization"
   ]
  },
  {
   "cell_type": "code",
   "execution_count": null,
   "metadata": {},
   "outputs": [],
   "source": [
    "fig_data = plt.figure()\n",
    "plt.xlabel('x')\n",
    "plt.xlim((-10, 10))\n",
    "plt.ylabel('y')\n",
    "plt.ylim((-10, 10))\n",
    "plt.title('Data')\n",
    "ax_data = sns.scatterplot(x=Xa[:, 1], y=y)\n",
    "sns.lineplot(x=Xa[:, 1], y=Xa @ weights, color='black', ax=ax_data)\n",
    "plt.show()"
   ]
  },
  {
   "cell_type": "markdown",
   "metadata": {},
   "source": [
    "### Algorithm"
   ]
  },
  {
   "cell_type": "code",
   "execution_count": null,
   "metadata": {},
   "outputs": [],
   "source": [
    "# Parameters\n",
    "alpha = 5e-5\n",
    "tolerance = 1.5\n",
    "max_iterations = 1000"
   ]
  },
  {
   "cell_type": "code",
   "execution_count": null,
   "metadata": {},
   "outputs": [],
   "source": [
    "# Algorithm\n",
    "trace_w = []\n",
    "\n",
    "iteration = 0\n",
    "last_loss = np.infty\n",
    "w = (np.random.random((num_dims + 1,)) * weights_scale) + weights_offset\n",
    "trace_w.append(w.copy())\n",
    "yhat = Xa @ w\n",
    "delta = y - yhat\n",
    "loss = delta @ delta\n",
    "while np.abs(last_loss - loss) > tolerance:\n",
    "    iteration += 1\n",
    "    if iteration > max_iterations:\n",
    "        iteration -= 1\n",
    "        break\n",
    "    nabla_w = -2 * (delta @ Xa)\n",
    "    w -= alpha * nabla_w\n",
    "    trace_w.append(w.copy())\n",
    "    yhat = Xa @ w\n",
    "    delta = y - yhat\n",
    "    last_loss = loss\n",
    "    loss = delta @ delta\n",
    "print(\"Finished after \" + str(iteration) + \" iterations.\")"
   ]
  },
  {
   "cell_type": "markdown",
   "metadata": {},
   "source": [
    "### Visualizing the algorithm in action"
   ]
  },
  {
   "cell_type": "code",
   "execution_count": null,
   "metadata": {},
   "outputs": [],
   "source": [
    "%%capture\n",
    "# Creating animated visualization\n",
    "fig = plt.figure()\n",
    "camera = Camera(fig)\n",
    "plt.xlabel('x')\n",
    "plt.ylabel('y')\n",
    "\n",
    "plt.title('Linear Regression')\n",
    "\n",
    "for i in range(iteration):\n",
    "    w = trace_w[i]\n",
    "    ax = sns.scatterplot(x=Xa[:, 1], y=y, legend=False)\n",
    "    sns.lineplot(x=Xa[:, 1], y=Xa @ w, color='black', legend=False, ax=ax)\n",
    "    plt.xlim((-10, 10))\n",
    "    plt.ylim((-10, 10))\n",
    "    camera.snap()\n",
    "\n",
    "animation = camera.animate()\n",
    "ax = sns.scatterplot(x=Xa[:, 1], y=y, legend=False)\n",
    "plt.show()"
   ]
  },
  {
   "cell_type": "code",
   "execution_count": null,
   "metadata": {},
   "outputs": [],
   "source": [
    "# Playing the animation\n",
    "HTML(animation.to_jshtml())"
   ]
  },
  {
   "cell_type": "markdown",
   "metadata": {},
   "source": [
    "## Example 2"
   ]
  },
  {
   "cell_type": "markdown",
   "metadata": {},
   "source": [
    "### Generating data"
   ]
  },
  {
   "cell_type": "code",
   "execution_count": null,
   "metadata": {},
   "outputs": [],
   "source": [
    "np.random.seed(100)\n",
    "\n",
    "# Parameters\n",
    "num_dims = 2\n",
    "num_data_points = 100\n",
    "data_size = (num_data_points, num_dims)\n",
    "x_scale = np.array([[20., 20.]])\n",
    "x_offset = np.array([[-10., -10.]])\n",
    "noise_scale = 8.\n",
    "weights_scale = np.array([10., 10.])\n",
    "weights_offset = np.array([-5., -5.])\n",
    "\n",
    "weights = (np.random.random((num_dims,)) * weights_scale) + weights_offset"
   ]
  },
  {
   "cell_type": "code",
   "execution_count": null,
   "metadata": {},
   "outputs": [],
   "source": [
    "# Generating the data\n",
    "X = (np.random.random(data_size) * np.tile(x_scale, (num_data_points, 1))) + np.tile(x_offset, (num_data_points, 1))\n",
    "\n",
    "Xa = np.concatenate((np.ones((num_data_points, 1)), X[:, :-1]), 1)\n",
    "z = (Xa @ weights) + np.random.normal(0., noise_scale, (num_data_points,))\n",
    "classes = (z > X[:, -1]).astype(int)\n",
    "y = (2 * classes) - 1"
   ]
  },
  {
   "cell_type": "markdown",
   "metadata": {},
   "source": [
    "### Visualization"
   ]
  },
  {
   "cell_type": "code",
   "execution_count": null,
   "metadata": {},
   "outputs": [],
   "source": [
    "fig_data = plt.figure()\n",
    "plt.xlabel('x')\n",
    "plt.xlim((-10, 10))\n",
    "plt.ylabel('y')\n",
    "plt.ylim((-10, 10))\n",
    "plt.title('Data')\n",
    "ax = sns.scatterplot(x=X[:, 0], y=X[:, 1], hue=classes, legend=False)\n",
    "sns.lineplot(x=Xa[:, 1], y=Xa @ weights, color='black', legend=False, ax=ax)\n",
    "plt.show()"
   ]
  },
  {
   "cell_type": "markdown",
   "metadata": {},
   "source": [
    "### Algorithm"
   ]
  },
  {
   "cell_type": "code",
   "execution_count": null,
   "metadata": {},
   "outputs": [],
   "source": [
    "# Parameters\n",
    "alpha = 1e-4\n",
    "tolerance = 1e-2\n",
    "max_iterations = 1000"
   ]
  },
  {
   "cell_type": "code",
   "execution_count": null,
   "metadata": {},
   "outputs": [],
   "source": [
    "# Algorithm\n",
    "trace_w = []\n",
    "trace_b = []\n",
    "\n",
    "iteration = 0\n",
    "last_loss = np.infty\n",
    "w = 10 * np.random.random((num_dims,)) - 5\n",
    "b = np.random.random()\n",
    "trace_w.append(w.copy())\n",
    "trace_b.append(b)\n",
    "zhat = (X @ w) + b\n",
    "mhat = y * zhat\n",
    "p1 = (mhat < 0)\n",
    "p2 = np.logical_and(np.logical_not(p1), (mhat < 1))\n",
    "loss = -np.sum(mhat[p1])\n",
    "while np.abs(last_loss - loss) > tolerance:\n",
    "    iteration += 1\n",
    "    if iteration > max_iterations:\n",
    "        iteration -= 1\n",
    "        break\n",
    "    a1 = -y[None, p1]\n",
    "    a2 = -y[None, p2] - zhat[None, p2]\n",
    "    nabla_w = np.squeeze((a1 @ X[p1, :]) + (a2 @ X[p2, :]))\n",
    "    nabla_b = np.squeeze(np.sum(a1) + np.sum(a2))\n",
    "    w -= alpha * nabla_w\n",
    "    b -= alpha * nabla_b\n",
    "    trace_w.append(w.copy())\n",
    "    trace_b.append(b)\n",
    "    zhat = (X @ w) + b\n",
    "    mhat = y * zhat\n",
    "    p1 = (mhat < 0)\n",
    "    p2 = np.logical_and(np.logical_not(p1), (mhat < 1))\n",
    "    last_loss = loss\n",
    "    loss = -np.sum(mhat[p1])\n",
    "print(\"Finished after \" + str(iteration) + \" iterations.\")"
   ]
  },
  {
   "cell_type": "markdown",
   "metadata": {},
   "source": [
    "### Visualizing the algorithm in action"
   ]
  },
  {
   "cell_type": "code",
   "execution_count": null,
   "metadata": {},
   "outputs": [],
   "source": [
    "%%capture\n",
    "# Creating animated vissualization\n",
    "fig = plt.figure()\n",
    "camera = Camera(fig)\n",
    "plt.xlabel('x')\n",
    "plt.ylabel('y')\n",
    "\n",
    "plt.title('SVM Classification')\n",
    "\n",
    "for i in range(iteration):\n",
    "    w = trace_w[i]\n",
    "    b = trace_b[i]\n",
    "    ax = sns.scatterplot(x=X[:, 0], y=X[:, 1], hue=classes, legend=False)\n",
    "    sns.lineplot(x=np.array([-10, 10]), y=-((np.array([-10, 10]) * w[0]) + b) / w[1], color='black', legend=False, ax=ax)\n",
    "    plt.xlim((-10, 10))\n",
    "    plt.ylim((-10, 10))\n",
    "    camera.snap()\n",
    "\n",
    "animation = camera.animate()\n",
    "ax = sns.scatterplot(x=X[:, 0], y=X[:, 1], hue=classes, legend=False)\n",
    "plt.show()"
   ]
  },
  {
   "cell_type": "code",
   "execution_count": null,
   "metadata": {},
   "outputs": [],
   "source": [
    "# Playing the animation\n",
    "HTML(animation.to_jshtml())"
   ]
  },
  {
   "cell_type": "markdown",
   "metadata": {},
   "source": [
    "## Example 3"
   ]
  },
  {
   "cell_type": "markdown",
   "metadata": {},
   "source": [
    "### Generating the data"
   ]
  },
  {
   "cell_type": "code",
   "execution_count": null,
   "metadata": {},
   "outputs": [],
   "source": [
    "np.random.seed(100)\n",
    "\n",
    "# Parameters\n",
    "num_dims = 2\n",
    "gen_k = 5\n",
    "gen_class_centre_means = 20. * np.random.random((gen_k, num_dims)) - 10.\n",
    "gen_class_centre_covs = ((5. * np.random.random((gen_k, 1))) @ np.eye(num_dims)[:, None, :]).transpose(1, 0, 2)\n",
    "gen_num_class_points = 40\n",
    "\n",
    "num_data_points = gen_k * gen_num_class_points"
   ]
  },
  {
   "cell_type": "code",
   "execution_count": null,
   "metadata": {},
   "outputs": [],
   "source": [
    "# Generating the data\n",
    "X = np.zeros((num_data_points, num_dims))\n",
    "y = np.zeros((num_data_points,), dtype=int)\n",
    "for i in range(gen_k):\n",
    "    ind_slice = (i * gen_num_class_points) + np.arange(gen_num_class_points, dtype=int)\n",
    "    X[ind_slice] = np.random.multivariate_normal(gen_class_centre_means[i], gen_class_centre_covs[i], (gen_num_class_points,))\n",
    "    y[ind_slice] = i"
   ]
  },
  {
   "cell_type": "markdown",
   "metadata": {},
   "source": [
    "### Visualization"
   ]
  },
  {
   "cell_type": "code",
   "execution_count": null,
   "metadata": {},
   "outputs": [],
   "source": [
    "fig_data = plt.figure()\n",
    "plt.xlabel('x')\n",
    "plt.xlim((-10, 10))\n",
    "plt.ylabel('y')\n",
    "plt.ylim((-10, 10))\n",
    "plt.title('Data')\n",
    "ax = sns.scatterplot(x=gen_class_centre_means[:, 0], y=gen_class_centre_means[:, 1], hue=np.arange(gen_k), marker='x', legend=False)\n",
    "sns.scatterplot(x=X[:, 0], y=X[:, 1], hue=y, legend=False, ax=ax)\n",
    "plt.show()"
   ]
  },
  {
   "cell_type": "markdown",
   "metadata": {},
   "source": [
    "### Algorithm"
   ]
  },
  {
   "cell_type": "code",
   "execution_count": null,
   "metadata": {},
   "outputs": [],
   "source": [
    "# Parameters\n",
    "k = 5"
   ]
  },
  {
   "cell_type": "code",
   "execution_count": null,
   "metadata": {},
   "outputs": [],
   "source": [
    "# Algorithm\n",
    "trace_centres = []\n",
    "trace_y = []\n",
    "\n",
    "iteration = 0\n",
    "last_y = np.zeros((num_data_points,), dtype=int)\n",
    "y = np.random.randint(0, k, (num_data_points,))\n",
    "trace_y.append(y.copy())\n",
    "centres = np.zeros((k, num_dims))\n",
    "for i in np.arange(k):\n",
    "    centres[i, :] = np.average(X[y == i, :], 0)\n",
    "trace_centres.append(centres.copy())\n",
    "\n",
    "while np.any(y != last_y):\n",
    "    iteration += 1\n",
    "    distances_sq = np.sum((np.tile(X[:, :, None], (1, 1, k)) - np.tile(centres[:, :, None].transpose((2, 1, 0)), (num_data_points, 1, 1))) ** 2, 1)\n",
    "    last_y = y\n",
    "    y = np.argmin(distances_sq, 1)\n",
    "    trace_y.append(y.copy())\n",
    "    for i in np.arange(k):\n",
    "        cluster_data_points = X[y == i, :]\n",
    "        if cluster_data_points.shape[0] > 0:\n",
    "            centres[i, :] = np.average(cluster_data_points, 0)\n",
    "        else:\n",
    "            centres[i, :] = X[np.random.randint(0, num_data_points), :]\n",
    "    trace_centres.append(centres.copy())\n",
    "print(\"Finished after \" + str(iteration) + \" iterations.\")"
   ]
  },
  {
   "cell_type": "markdown",
   "metadata": {},
   "source": [
    "### Visualizing the algorithm in action"
   ]
  },
  {
   "cell_type": "code",
   "execution_count": null,
   "metadata": {},
   "outputs": [],
   "source": [
    "%%capture\n",
    "# Creating animated vissualization\n",
    "fig = plt.figure()\n",
    "camera = Camera(fig)\n",
    "plt.xlabel('x')\n",
    "plt.ylabel('y')\n",
    "\n",
    "plt.title('k-Means clustering')\n",
    "\n",
    "for i in range(iteration):\n",
    "    y = trace_y[i]\n",
    "    centres = trace_centres[i]\n",
    "    ax = sns.scatterplot(x=centres[:, 0], y=centres[:, 1], hue=np.arange(gen_k), marker='x', legend=False)\n",
    "    sns.scatterplot(x=X[:, 0], y=X[:, 1], hue=y, legend=False, ax=ax)\n",
    "    plt.xlim((-10, 10))\n",
    "    plt.ylim((-10, 10))\n",
    "    camera.snap()\n",
    "\n",
    "animation = camera.animate()\n",
    "plt.show()"
   ]
  },
  {
   "cell_type": "code",
   "execution_count": null,
   "metadata": {},
   "outputs": [],
   "source": [
    "# Playing the animation\n",
    "HTML(animation.to_jshtml())"
   ]
  },
  {
   "cell_type": "markdown",
   "metadata": {},
   "source": [
    "## Example 4"
   ]
  },
  {
   "cell_type": "markdown",
   "metadata": {},
   "source": [
    "### Specifying an environment"
   ]
  },
  {
   "cell_type": "code",
   "execution_count": null,
   "metadata": {},
   "outputs": [],
   "source": [
    "np.random.seed(100)\n",
    "\n",
    "# Environment shape and artifcats\n",
    "actions = np.array([[-1,  0],\n",
    "                    [ 0, -1],\n",
    "                    [ 1,  0],\n",
    "                    [ 0,  1]], dtype=int)\n",
    "rt = 0\n",
    "up = 1\n",
    "lf = 2\n",
    "dn = 3\n",
    "\n",
    "grid = np.array([[1, 1, 1, 1, 1, 1, 1, 1, 1, 3, 1],\n",
    "                 [1, 0, 0, 1, 0, 0, 0, 0, 0, 0, 1],\n",
    "                 [1, 0, 0, 0, 0, 1, 0, 1, 1, 1, 1],\n",
    "                 [1, 0, 1, 0, 0, 1, 0, 1, 0, 0, 1],\n",
    "                 [1, 0, 1, 1, 1, 1, 0, 1, 1, 0, 1],\n",
    "                 [1, 0, 0, 0, 0, 1, 0, 0, 1, 0, 1],\n",
    "                 [1, 1, 0, 1, 0, 1, 1, 0, 1, 0, 1],\n",
    "                 [1, 0, 0, 1, 0, 0, 1, 0, 0, 0, 1],\n",
    "                 [1, 0, 1, 1, 1, 1, 1, 1, 0, 4, 1],\n",
    "                 [1, 0, 0, 0, 0, 0, 0, 0, 0, 0, 1],\n",
    "                 [1, 2, 1, 1, 1, 1, 1, 1, 1, 1, 1]], dtype=int)\n",
    "path = 0\n",
    "wall = 1\n",
    "strt = 2\n",
    "goal = 3\n",
    "objt = 4\n",
    "\n",
    "symbol_rewards = np.array([0., -1., 0., 10., 3.])\n",
    "out_reward = -1.\n",
    "\n",
    "symbol_terminal = np.array([False, False, False, True, False], dtype=bool)"
   ]
  },
  {
   "cell_type": "code",
   "execution_count": null,
   "metadata": {},
   "outputs": [],
   "source": [
    "# Environment actions\n",
    "episode_grid = None\n",
    "\n",
    "def gridworld_init():\n",
    "    global episode_grid\n",
    "    episode_grid = grid\n",
    "    return np.concatenate(np.where(episode_grid == strt))\n",
    "\n",
    "def gridworld_step(s, a):\n",
    "    global episode_grid\n",
    "    sprime = s + actions[a]\n",
    "#    print(\"si: \" + str(sprime))\n",
    "    if np.any(sprime < 0) or np.any(sprime >= episode_grid.shape):\n",
    "        r = out_reward\n",
    "        sprime = s\n",
    "    else:\n",
    "        r = symbol_rewards[episode_grid[tuple(sprime.tolist())]]\n",
    "    if episode_grid[tuple(sprime.tolist())] == wall:\n",
    "        sprime = s\n",
    "    elif episode_grid[tuple(sprime.tolist())] == objt:\n",
    "        episode_grid[tuple(sprime.tolist())] = path\n",
    "    return (sprime, r)\n",
    "\n",
    "def gridworld_is_terminal(s):\n",
    "    return symbol_terminal[episode_grid[s[0], s[1]]]"
   ]
  },
  {
   "cell_type": "markdown",
   "metadata": {},
   "source": [
    "### Visualization"
   ]
  },
  {
   "cell_type": "code",
   "execution_count": null,
   "metadata": {},
   "outputs": [],
   "source": [
    "# Visualization utilities\n",
    "cmap = cm.RdBu\n",
    "cmap.set_bad('black', 1.)\n",
    "\n",
    "vis_filter = np.array([1., np.nan, 1., 1., 1.])[grid]"
   ]
  },
  {
   "cell_type": "code",
   "execution_count": null,
   "metadata": {},
   "outputs": [],
   "source": [
    "# Visualization\n",
    "vis_map = 0. * vis_filter\n",
    "masked_array = np.ma.array(vis_map, mask=np.isnan(vis_map))\n",
    "\n",
    "fig, ax = plt.subplots(1, 1)\n",
    "\n",
    "ax.imshow(masked_array, cmap=cmap, vmin=-40., vmax=40.)\n",
    "\n",
    "ax.axis('off')\n",
    "\n",
    "start_pos = (np.concatenate(np.where(grid == strt)))\n",
    "start_glyph = plt.scatter(start_pos[1], start_pos[0], marker=\"$S$\", color='green')\n",
    "goal_pos = (np.concatenate(np.where(grid == goal)))\n",
    "goal_glyph = plt.scatter(goal_pos[1], goal_pos[0], marker=\"$G$\", color='blue')\n",
    "pizza_pos = (np.concatenate(np.where(grid == objt)))\n",
    "pizza_glyph = plt.scatter(pizza_pos[1], pizza_pos[0], marker=\"$P$\", color='red')\n",
    "\n",
    "plt.show()"
   ]
  },
  {
   "cell_type": "markdown",
   "metadata": {},
   "source": [
    "### Algorithm"
   ]
  },
  {
   "cell_type": "code",
   "execution_count": null,
   "metadata": {},
   "outputs": [],
   "source": [
    "# Parameters\n",
    "eps = 0.2\n",
    "alpha = 0.1\n",
    "gamma = 0.9"
   ]
  },
  {
   "cell_type": "code",
   "execution_count": null,
   "metadata": {},
   "outputs": [],
   "source": [
    "# Algorithm\n",
    "Q = np.zeros((grid.shape[0], grid.shape[1], actions.shape[0]))\n",
    "MS = np.zeros((grid.shape[0], grid.shape[1]), dtype=bool)\n",
    "MSA = np.zeros((grid.shape[0], grid.shape[1], actions.shape[0]), dtype=bool)\n",
    "MSp = np.zeros((grid.shape[0], grid.shape[1], actions.shape[0], 2), dtype=int)\n",
    "MR = np.zeros((grid.shape[0], grid.shape[1], actions.shape[0]))\n",
    "Mus = 10\n",
    "\n",
    "def randargmax(vec):\n",
    "    return np.random.choice(np.where(vec == np.max(vec))[0])\n",
    "\n",
    "def Qrow(s):\n",
    "    return Q[s[0], s[1], :]\n",
    "\n",
    "def epsilon_greedy(s, epsilon):\n",
    "    return randargmax(Qrow(s)) if np.random.random() > epsilon else np.random.randint(Qrow(s).shape[0])\n",
    "\n",
    "def V(s):\n",
    "    return np.max(Qrow(s))\n",
    "\n",
    "def qlearning_episode(record=False, max_steps=100):\n",
    "    global Q, MS, MSA, MSp, MR\n",
    "    step = 0\n",
    "    s = gridworld_init()\n",
    "    if record and step < max_steps:\n",
    "        trace_Q = [Q.copy()]\n",
    "        trace_s = [s]\n",
    "    else:\n",
    "        trace_Q = []\n",
    "        trace_s = []\n",
    "    trace_a = []\n",
    "    while not gridworld_is_terminal(s):\n",
    "        step += 1\n",
    "        MS[s[0], s[1]] = True\n",
    "        a = epsilon_greedy(s, eps)\n",
    "        MSA[s[0], s[1], a] = True\n",
    "        (sprime, r) = gridworld_step(s, a)\n",
    "        MSp[s[0], s[1], a, :] = sprime\n",
    "        MR[s[0], s[1], a] = r\n",
    "        td_error = r - Q[s[0], s[1], a]\n",
    "        if not gridworld_is_terminal(sprime):\n",
    "            td_error += gamma * V(sprime)\n",
    "        Q[s[0], s[1], a] += alpha * td_error\n",
    "        MSI = np.where(MS)\n",
    "        num_MS = MSI[0].shape[0]\n",
    "        for i in range(Mus):\n",
    "            si = np.random.randint(num_MS)\n",
    "            s_m = np.array([MSI[0][si], MSI[1][si]])\n",
    "            MsAI = np.where(MSA[s_m[0], s_m[1], :])\n",
    "            num_MsA = MsAI[0].shape[0]\n",
    "            ai = np.random.randint(num_MsA)\n",
    "            a_m = MsAI[0][ai]\n",
    "            sprime_m = MSp[s_m[0], s_m[1], a_m, :]\n",
    "            r_m = MR[s_m[0], s_m[1], a_m]\n",
    "            td_error_m = r_m - Q[s_m[0], s_m[1], a_m]\n",
    "            if not gridworld_is_terminal(sprime_m):\n",
    "                td_error_m += gamma * V(sprime_m)\n",
    "            Q[s_m[0], s_m[1], a_m] += alpha * td_error_m\n",
    "        s = sprime\n",
    "        if record and step < max_steps:\n",
    "            trace_Q.append(Q.copy())\n",
    "            trace_s.append(s)\n",
    "            trace_a.append(a)\n",
    "    return (step, trace_Q, trace_s, trace_a)"
   ]
  },
  {
   "cell_type": "markdown",
   "metadata": {},
   "source": [
    "### Execution"
   ]
  },
  {
   "cell_type": "markdown",
   "metadata": {},
   "source": [
    "#### Episode (iteration) 1"
   ]
  },
  {
   "cell_type": "markdown",
   "metadata": {},
   "source": [
    "##### Execution"
   ]
  },
  {
   "cell_type": "code",
   "execution_count": null,
   "metadata": {},
   "outputs": [],
   "source": [
    "Q = np.random.random((grid.shape[0], grid.shape[1], actions.shape[0]))\n",
    "\n",
    "(num_steps, trace_Q, trace_s, trace_a) = qlearning_episode(True)\n",
    "print(\"Episode 1 finished after \" + str(num_steps) + \" steps.\")"
   ]
  },
  {
   "cell_type": "markdown",
   "metadata": {},
   "source": [
    "##### Visualizing the algorithm in action"
   ]
  },
  {
   "cell_type": "code",
   "execution_count": null,
   "metadata": {},
   "outputs": [],
   "source": [
    "%%capture\n",
    "# Creating animated visualization\n",
    "fig, ax = plt.subplots(1, 1)\n",
    "camera = Camera(fig)\n",
    "\n",
    "Q = trace_Q[0]\n",
    "s = trace_s[0]\n",
    "a = trace_a[0]\n",
    "\n",
    "vis_map = np.max(Q, 2) * vis_filter\n",
    "masked_array = np.ma.array(vis_map, mask=np.isnan(vis_map))\n",
    "\n",
    "ax.imshow(masked_array, cmap=cmap, vmin=-10., vmax=10.)\n",
    "ax.grid(True)\n",
    "agent_glyph = plt.scatter(s[1], s[0], marker=\"o\", color=[0.8, 0.8, 0.8], edgecolors='black')\n",
    "camera.snap()\n",
    "for i in range(1, len(trace_Q)):\n",
    "    a = trace_a[i - 1]\n",
    "    \n",
    "    ax.imshow(masked_array, cmap=cmap, vmin=-10., vmax=10.)\n",
    "    ax.grid(True)\n",
    "    sa = s + actions[a, :]\n",
    "    agent_glyph = plt.scatter(sa[1], sa[0], marker=\"o\", color=[0.8, 0.8, 0.8], edgecolors='yellow')\n",
    "    camera.snap()\n",
    "    \n",
    "    Q = trace_Q[i]\n",
    "    s = trace_s[i]\n",
    "    \n",
    "    vis_map = np.max(Q, 2) * vis_filter\n",
    "    masked_array = np.ma.array(vis_map, mask=np.isnan(vis_map))\n",
    "\n",
    "    ax.imshow(masked_array, cmap=cmap, vmin=-10., vmax=10.)\n",
    "    ax.grid(True)\n",
    "    agent_glyph = plt.scatter(s[1], s[0], marker=\"o\", color=[0.8, 0.8, 0.8], edgecolors='black')\n",
    "    camera.snap()\n",
    "animation = camera.animate()\n",
    "plt.show()"
   ]
  },
  {
   "cell_type": "code",
   "execution_count": null,
   "metadata": {},
   "outputs": [],
   "source": [
    "# Playing the animation\n",
    "HTML(animation.to_jshtml())"
   ]
  },
  {
   "cell_type": "markdown",
   "metadata": {},
   "source": [
    "#### Episode (iteration) 2 to 1000"
   ]
  },
  {
   "cell_type": "markdown",
   "metadata": {},
   "source": [
    "##### Execution"
   ]
  },
  {
   "cell_type": "code",
   "execution_count": null,
   "metadata": {},
   "outputs": [],
   "source": [
    "for i in range(2, 1000):\n",
    "    (num_steps, trace_Q, trace_s, trace_a) = qlearning_episode(False)\n",
    "    print(\"Episode \" + str(i) + \" finished after \" + str(num_steps) + \" steps.\")\n",
    "(num_steps, trace_Q, trace_s, trace_a) = qlearning_episode(True)\n",
    "print(\"Episode 1000 finished after \" + str(num_steps) + \" steps.\")"
   ]
  },
  {
   "cell_type": "markdown",
   "metadata": {},
   "source": [
    "##### Visualizing the algorithm in action for episode 1000"
   ]
  },
  {
   "cell_type": "code",
   "execution_count": null,
   "metadata": {},
   "outputs": [],
   "source": [
    "%%capture\n",
    "# Creating animated visualization\n",
    "fig, ax = plt.subplots(1, 1)\n",
    "camera = Camera(fig)\n",
    "\n",
    "Q = trace_Q[0]\n",
    "s = trace_s[0]\n",
    "a = trace_a[0]\n",
    "\n",
    "vis_map = np.max(Q, 2) * vis_filter\n",
    "masked_array = np.ma.array(vis_map, mask=np.isnan(vis_map))\n",
    "\n",
    "ax.imshow(masked_array, cmap=cmap, vmin=-10., vmax=10.)\n",
    "ax.set_xlim((-1.5, grid.shape[0] + 0.5))\n",
    "ax.set_ylim((grid.shape[1] + 0.5, -1.5))\n",
    "ax.axis('off')\n",
    "agent_glyph = plt.scatter(s[1], s[0], marker=\"o\", color=[0.8, 0.8, 0.8], edgecolors='black')\n",
    "camera.snap()\n",
    "for i in range(1, len(trace_Q)):\n",
    "    a = trace_a[i - 1]\n",
    "    \n",
    "    ax.imshow(masked_array, cmap=cmap, vmin=-10., vmax=10.)\n",
    "    ax.set_xlim((-1.5, grid.shape[0] + 0.5))\n",
    "    ax.set_ylim((grid.shape[1] + 0.5, -1.5))\n",
    "    ax.axis('off')\n",
    "    sa = s + actions[a, :]\n",
    "    agent_glyph = plt.scatter(sa[1], sa[0], marker=\"o\", color=[0.8, 0.8, 0.8], edgecolors='yellow')\n",
    "    camera.snap()\n",
    "    \n",
    "    Q = trace_Q[i]\n",
    "    s = trace_s[i]\n",
    "    \n",
    "    vis_map = np.max(Q, 2) * vis_filter\n",
    "    masked_array = np.ma.array(vis_map, mask=np.isnan(vis_map))\n",
    "\n",
    "    ax.imshow(masked_array, cmap=cmap, vmin=-10., vmax=10.)\n",
    "    ax.set_xlim((-1.5, grid.shape[0] + 0.5))\n",
    "    ax.set_ylim((grid.shape[1] + 0.5, -1.5))\n",
    "    ax.axis('off')\n",
    "    agent_glyph = plt.scatter(s[1], s[0], marker=\"o\", color=[0.8, 0.8, 0.8], edgecolors='black')\n",
    "    camera.snap()\n",
    "animation = camera.animate()\n",
    "plt.show()"
   ]
  },
  {
   "cell_type": "code",
   "execution_count": null,
   "metadata": {},
   "outputs": [],
   "source": [
    "# Playing the animation\n",
    "HTML(animation.to_jshtml())"
   ]
  },
  {
   "cell_type": "code",
   "execution_count": null,
   "metadata": {},
   "outputs": [],
   "source": []
  }
 ],
 "metadata": {
  "kernelspec": {
   "display_name": "Python 3",
   "language": "python",
   "name": "python3"
  },
  "language_info": {
   "codemirror_mode": {
    "name": "ipython",
    "version": 3
   },
   "file_extension": ".py",
   "mimetype": "text/x-python",
   "name": "python",
   "nbconvert_exporter": "python",
   "pygments_lexer": "ipython3",
   "version": "3.7.3"
  }
 },
 "nbformat": 4,
 "nbformat_minor": 2
}
