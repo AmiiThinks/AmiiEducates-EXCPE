{
 "cells": [
  {
   "cell_type": "markdown",
   "metadata": {},
   "source": [
    "# Linear Regression"
   ]
  },
  {
   "cell_type": "markdown",
   "metadata": {},
   "source": [
    "### Setting up the environment"
   ]
  },
  {
   "cell_type": "code",
   "execution_count": null,
   "metadata": {},
   "outputs": [],
   "source": [
    "import numpy as np\n",
    "from matplotlib import pyplot as plt\n",
    "import seaborn as sns\n",
    "from IPython.display import HTML\n",
    "from celluloid import Camera\n",
    "%matplotlib notebook\n",
    "sns.set()\n",
    "np.random.seed(100)"
   ]
  },
  {
   "cell_type": "markdown",
   "metadata": {},
   "source": [
    "### Generating data"
   ]
  },
  {
   "cell_type": "code",
   "execution_count": null,
   "metadata": {},
   "outputs": [],
   "source": [
    "# Parameters\n",
    "num_dims = 1\n",
    "num_data_points = 50\n",
    "data_size = (num_data_points, num_dims)\n",
    "x_scale = 20.\n",
    "x_offset = -10.\n",
    "noise_scale = 5.\n",
    "weights_scale = np.array([10., 6.])\n",
    "weights_offset = np.array([-5., -3.])\n",
    "\n",
    "weights = (np.random.random((num_dims + 1,)) * weights_scale) + weights_offset"
   ]
  },
  {
   "cell_type": "code",
   "execution_count": null,
   "metadata": {},
   "outputs": [],
   "source": [
    "# Generating the data\n",
    "X = (np.random.random(data_size) * x_scale) + x_offset\n",
    "\n",
    "Xa = np.concatenate((np.ones((num_data_points, 1)), X), 1)\n",
    "y = (Xa @ weights) + np.random.normal(0., noise_scale, (num_data_points,))"
   ]
  },
  {
   "cell_type": "code",
   "execution_count": null,
   "metadata": {},
   "outputs": [],
   "source": [
    "# Visualization\n",
    "fig_data = plt.figure()\n",
    "plt.xlabel('x')\n",
    "plt.xlim((-10, 10))\n",
    "plt.ylabel('y')\n",
    "plt.ylim((-10, 10))\n",
    "plt.title('Data')\n",
    "ax_data = sns.scatterplot(x=Xa[:, 1], y=y)\n",
    "sns.lineplot(x=Xa[:, 1], y=Xa @ weights, color='black', ax=ax_data)\n",
    "plt.show()"
   ]
  },
  {
   "cell_type": "markdown",
   "metadata": {},
   "source": [
    "### Regression"
   ]
  },
  {
   "cell_type": "code",
   "execution_count": null,
   "metadata": {},
   "outputs": [],
   "source": [
    "# Parameters\n",
    "alpha = 5e-5\n",
    "tolerance = 1.5\n",
    "max_iterations = 1000"
   ]
  },
  {
   "cell_type": "code",
   "execution_count": null,
   "metadata": {},
   "outputs": [],
   "source": [
    "# Regression\n",
    "trace_w = []\n",
    "\n",
    "iteration = 0\n",
    "last_loss = np.infty\n",
    "w = (np.random.random((num_dims + 1,)) * weights_scale) + weights_offset\n",
    "trace_w.append(w.copy())\n",
    "yhat = Xa @ w\n",
    "delta = y - yhat\n",
    "loss = delta @ delta\n",
    "while np.abs(last_loss - loss) > tolerance:\n",
    "    iteration += 1\n",
    "    if iteration > max_iterations:\n",
    "        iteration -= 1\n",
    "        break\n",
    "    nabla_w = -2 * (delta @ Xa)\n",
    "    w -= alpha * nabla_w\n",
    "    trace_w.append(w.copy())\n",
    "    yhat = Xa @ w\n",
    "    delta = y - yhat\n",
    "    last_loss = loss\n",
    "    loss = delta @ delta\n",
    "print(\"Linear regression finished after \" + str(iteration) + \" iterations.\")"
   ]
  },
  {
   "cell_type": "code",
   "execution_count": null,
   "metadata": {},
   "outputs": [],
   "source": [
    "%%capture\n",
    "# Creating animated vissualization\n",
    "fig = plt.figure()\n",
    "camera = Camera(fig)\n",
    "plt.xlabel('x')\n",
    "plt.ylabel('y')\n",
    "\n",
    "plt.title('Linear Regression')\n",
    "\n",
    "for i in range(iteration):\n",
    "    w = trace_w[i]\n",
    "    ax = sns.scatterplot(x=Xa[:, 1], y=y, legend=False)\n",
    "    sns.lineplot(x=Xa[:, 1], y=Xa @ w, color='black', legend=False, ax=ax)\n",
    "    plt.xlim((-10, 10))\n",
    "    plt.ylim((-10, 10))\n",
    "    camera.snap()\n",
    "\n",
    "animation = camera.animate()\n",
    "ax = sns.scatterplot(x=Xa[:, 1], y=y, legend=False)\n",
    "plt.show()"
   ]
  },
  {
   "cell_type": "code",
   "execution_count": null,
   "metadata": {},
   "outputs": [],
   "source": [
    "# Playing the animation\n",
    "HTML(animation.to_jshtml())"
   ]
  },
  {
   "cell_type": "code",
   "execution_count": null,
   "metadata": {},
   "outputs": [],
   "source": []
  }
 ],
 "metadata": {
  "kernelspec": {
   "display_name": "Python 3",
   "language": "python",
   "name": "python3"
  },
  "language_info": {
   "codemirror_mode": {
    "name": "ipython",
    "version": 3
   },
   "file_extension": ".py",
   "mimetype": "text/x-python",
   "name": "python",
   "nbconvert_exporter": "python",
   "pygments_lexer": "ipython3",
   "version": "3.7.3"
  }
 },
 "nbformat": 4,
 "nbformat_minor": 2
}
