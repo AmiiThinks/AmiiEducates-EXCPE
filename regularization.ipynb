{
 "cells": [
  {
   "cell_type": "markdown",
   "metadata": {},
   "source": [
    "# Regularization"
   ]
  },
  {
   "cell_type": "code",
   "execution_count": null,
   "metadata": {},
   "outputs": [],
   "source": [
    "import numpy as np\n",
    "from sklearn.linear_model import Ridge, Lasso\n",
    "from sklearn.preprocessing import PolynomialFeatures\n",
    "from sklearn.model_selection import train_test_split\n",
    "from sklearn.datasets import make_regression, load_boston\n",
    "import matplotlib.pyplot as plt\n",
    "from ipywidgets import interactive\n",
    "%matplotlib inline\n",
    "np.random.seed(50)"
   ]
  },
  {
   "cell_type": "code",
   "execution_count": null,
   "metadata": {},
   "outputs": [],
   "source": [
    "(X, y) = make_regression(n_samples=10, n_features=1, noise=10.)\n",
    "\n",
    "x_min = np.min(X)\n",
    "x_max = np.max(X)\n",
    "x_margin = 0.05 * (x_max - x_min)\n",
    "y_min = np.min(y)\n",
    "y_max = np.max(y)\n",
    "y_margin = 0.05 * (y_max - y_min)"
   ]
  },
  {
   "cell_type": "code",
   "execution_count": null,
   "metadata": {},
   "outputs": [],
   "source": [
    "(X_train, X_test, y_train, y_test) = train_test_split(X, y, test_size=0.5, random_state=42)"
   ]
  },
  {
   "cell_type": "code",
   "execution_count": null,
   "metadata": {},
   "outputs": [],
   "source": [
    "poly = PolynomialFeatures(degree=9)\n",
    "X_p_train = poly.fit_transform(X_train)\n",
    "X_p_test = poly.fit_transform(X_test)\n",
    "\n",
    "X_vis = np.linspace(x_min - x_margin, x_max + x_margin, num=100)\n",
    "X_p_vis = poly.fit_transform(X_vis[:, None])\n",
    "\n",
    "pale_red = np.array([[0.9, 0.7, 0.7]])\n",
    "bold_red = np.array([[0.9, 0.0, 0.0]])\n",
    "\n",
    "def fit_and_plot_regularized_regression(log_alpha):\n",
    "    regr = Ridge(alpha=np.exp(log_alpha))\n",
    "    regr.fit(X_p_train, y_train)\n",
    "    \n",
    "    plt.scatter(X_train[:, 0], y_train, c=pale_red)\n",
    "    plt.scatter(X_test[:, 0], y_test, c=bold_red)\n",
    "    yhat_vis = regr.predict(X_p_vis)\n",
    "    plt.plot(X_vis, yhat_vis)\n",
    "    plt.ylim(y_min - y_margin, y_max + y_margin)\n",
    "    plt.title\n",
    "    plt.show()\n",
    "\n",
    "interactive_plot = interactive(fit_and_plot_regularized_regression, log_alpha=(-10., 0.5))\n",
    "output = interactive_plot.children[-1]\n",
    "#output.layout.height = '350px'\n",
    "interactive_plot"
   ]
  },
  {
   "cell_type": "code",
   "execution_count": null,
   "metadata": {},
   "outputs": [],
   "source": [
    "np.set_printoptions(precision=3, suppress=True)\n",
    "\n",
    "boston = load_boston()\n",
    "X = boston.data\n",
    "y = boston.target\n",
    "\n",
    "l2 = Ridge(alpha=1.0)\n",
    "l2.fit(X, y)\n",
    "print(\"The coefficients for regression with L2 regularizer (Ridge) is:\\n\" + str(l2.coef_))\n",
    "\n",
    "l1 = Lasso(alpha=1.0)\n",
    "l1.fit(X, y)\n",
    "print(\"The coefficients for regression with L1 regularizer (Lasso) is:\\n\" + str(l1.coef_))"
   ]
  },
  {
   "cell_type": "code",
   "execution_count": null,
   "metadata": {},
   "outputs": [],
   "source": []
  }
 ],
 "metadata": {
  "kernelspec": {
   "display_name": "Python 3",
   "language": "python",
   "name": "python3"
  },
  "language_info": {
   "codemirror_mode": {
    "name": "ipython",
    "version": 3
   },
   "file_extension": ".py",
   "mimetype": "text/x-python",
   "name": "python",
   "nbconvert_exporter": "python",
   "pygments_lexer": "ipython3",
   "version": "3.7.3"
  }
 },
 "nbformat": 4,
 "nbformat_minor": 2
}
