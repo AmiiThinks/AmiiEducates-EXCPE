{
 "cells": [
  {
   "cell_type": "markdown",
   "metadata": {},
   "source": [
    "# Losses"
   ]
  },
  {
   "cell_type": "code",
   "execution_count": null,
   "metadata": {},
   "outputs": [],
   "source": [
    "import numpy as np\n",
    "from sklearn.linear_model import SGDRegressor\n",
    "from matplotlib import pyplot as plt\n",
    "%matplotlib notebook"
   ]
  },
  {
   "cell_type": "code",
   "execution_count": null,
   "metadata": {},
   "outputs": [],
   "source": [
    "X = np.array([[9.630], [3.295], [-7.989], [4.893], [-9.596], [-0.674], [9.546], [-8.469], [-7.914], [1.137]])\n",
    "y = np.array([-7.285, 1.288, -4.603, 1.673, -5.549, -0.863, 4.247, 8.315, -4.778, -0.280])\n",
    "#(w, b) = (0.525, -0.901)"
   ]
  },
  {
   "cell_type": "code",
   "execution_count": null,
   "metadata": {},
   "outputs": [],
   "source": [
    "X_vis = np.array([[-9.999], [9.999]])\n",
    "y_vis = np.array([-6.151, 4.349])\n",
    "plt.plot(X_vis[:, 0], y_vis, color='red', ls=':')\n",
    "plt.scatter(X[:, 0], y)\n",
    "plt.show()"
   ]
  },
  {
   "cell_type": "code",
   "execution_count": null,
   "metadata": {},
   "outputs": [],
   "source": [
    "regr_l2 = SGDRegressor(loss='squared_loss', alpha=0., tol=1e-5)\n",
    "regr_l2.fit(X, y);\n",
    "\n",
    "yhat_l2_vis = regr_l2.predict(X_vis)\n",
    "plt.plot(X_vis[:, 0], yhat_l2_vis, color='green', ls=':')\n",
    "plt.scatter(X[:, 0], y)\n",
    "plt.show()"
   ]
  },
  {
   "cell_type": "code",
   "execution_count": null,
   "metadata": {},
   "outputs": [],
   "source": [
    "regr_hu = SGDRegressor(loss='huber', alpha=0., tol=1e-5)\n",
    "regr_hu.fit(X, y);\n",
    "\n",
    "yhat_hu_vis = regr_hu.predict(X_vis)\n",
    "plt.plot(X_vis[:, 0], yhat_hu_vis, color='green', ls=':')\n",
    "plt.scatter(X[:, 0], y)\n",
    "plt.show()"
   ]
  },
  {
   "cell_type": "code",
   "execution_count": null,
   "metadata": {},
   "outputs": [],
   "source": []
  }
 ],
 "metadata": {
  "kernelspec": {
   "display_name": "Python 3",
   "language": "python",
   "name": "python3"
  },
  "language_info": {
   "codemirror_mode": {
    "name": "ipython",
    "version": 3
   },
   "file_extension": ".py",
   "mimetype": "text/x-python",
   "name": "python",
   "nbconvert_exporter": "python",
   "pygments_lexer": "ipython3",
   "version": "3.7.3"
  }
 },
 "nbformat": 4,
 "nbformat_minor": 2
}
