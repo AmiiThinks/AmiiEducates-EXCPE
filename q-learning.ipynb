{
 "cells": [
  {
   "cell_type": "markdown",
   "metadata": {},
   "source": [
    "# Q-Learning"
   ]
  },
  {
   "cell_type": "code",
   "execution_count": 1,
   "metadata": {},
   "outputs": [],
   "source": [
    "import numpy as np\n",
    "import matplotlib.pyplot as plt\n",
    "import seaborn as sns\n",
    "import time\n",
    "%matplotlib inline\n",
    "plt.rcParams['figure.figsize'] = [8, 8]\n",
    "\n",
    "actions = np.array([[-1,  0],\n",
    "                    [ 0, -1],\n",
    "                    [ 1,  0],\n",
    "                    [ 0,  1]], dtype=int)\n",
    "rt = 0\n",
    "up = 1\n",
    "lf = 2\n",
    "dn = 3\n",
    "\n",
    "grid = np.array([[1, 1, 1, 1, 1, 1, 1, 1, 1, 3, 1],\n",
    "                 [1, 0, 0, 1, 0, 0, 0, 0, 0, 0, 1],\n",
    "                 [1, 0, 0, 0, 0, 1, 0, 1, 1, 1, 1],\n",
    "                 [1, 0, 1, 0, 0, 1, 0, 1, 0, 0, 1],\n",
    "                 [1, 0, 1, 1, 1, 1, 0, 1, 1, 0, 1],\n",
    "                 [1, 0, 0, 0, 0, 1, 0, 0, 1, 0, 1],\n",
    "                 [1, 1, 0, 1, 0, 1, 1, 0, 1, 0, 1],\n",
    "                 [1, 0, 0, 1, 0, 0, 1, 0, 0, 0, 1],\n",
    "                 [1, 0, 1, 1, 1, 1, 1, 1, 0, 4, 1],\n",
    "                 [1, 0, 0, 0, 0, 0, 0, 0, 0, 0, 1],\n",
    "                 [1, 2, 1, 1, 1, 1, 1, 1, 1, 1, 1]], dtype=int)\n",
    "path = 0\n",
    "wall = 1\n",
    "strt = 2\n",
    "goal = 3\n",
    "objt = 4\n",
    "\n",
    "symbol_rewards = np.array([0., -1., 0., 10., 3.])\n",
    "out_reward = 0.\n",
    "\n",
    "symbol_terminal = np.array([False, False, False, True, False], dtype=bool)\n",
    "\n",
    "def gridworld_init():\n",
    "    return (np.concatenate(np.where(grid == strt)))[np.array([1, 0])]\n",
    "\n",
    "def gridworld_step(s, a):\n",
    "    sprime = s + actions[a]\n",
    "    if np.any(sprime < 0) or np.any(sprime >= grid.shape):\n",
    "        r = out_reward\n",
    "        sprime = s\n",
    "    else:\n",
    "        r = symbol_rewards[grid[tuple(sprime.tolist())]]\n",
    "    if grid[tuple(sprime.tolist())] == wall:\n",
    "        sprime = s\n",
    "    return (sprime, r)\n",
    "def gridworld_is_terminal(s):\n",
    "    return symbol_terminal[grid[s]]"
   ]
  },
  {
   "cell_type": "code",
   "execution_count": 2,
   "metadata": {},
   "outputs": [
    {
     "data": {
      "image/png": "[encoded data removed]",
      "text/plain": [
       "<Figure size 432x288 with 1 Axes>"
      ]
     },
     "metadata": {
      "needs_background": "light"
     },
     "output_type": "display_data"
    }
   ],
   "source": [
    "vis_map = np.array([1., 0., 1., 1., 1.])[grid]\n",
    "fig, ax = plt.subplots(1,1)\n",
    "ax = sns.heatmap(vis_map, cbar = False, ax=ax)\n",
    "ax.axis('off')\n",
    "start_pos = (np.concatenate(np.where(grid == strt)))[np.array([1, 0])]\n",
    "start_glyph = plt.scatter(start_pos[0] + 0.5, start_pos[1] + 0.5, marker=\"$S$\", color='green')\n",
    "goal_pos = (np.concatenate(np.where(grid == goal)))[np.array([1, 0])]\n",
    "goal_glyph = plt.scatter(goal_pos[0] + 0.5, goal_pos[1] + 0.5, marker=\"$G$\", color='blue')\n",
    "pizza_pos = (np.concatenate(np.where(grid == objt)))[np.array([1, 0])]\n",
    "pizza_glyph = plt.scatter(pizza_pos[0] + 0.5, pizza_pos[1] + 0.5, marker=\"$P$\", color='red')\n",
    "plt.show()"
   ]
  },
  {
   "cell_type": "code",
   "execution_count": 21,
   "metadata": {
    "scrolled": true
   },
   "outputs": [
    {
     "data": {
      "image/png": "[encoded data removed]",
      "text/plain": [
       "<Figure size 432x288 with 1 Axes>"
      ]
     },
     "metadata": {
      "needs_background": "light"
     },
     "output_type": "display_data"
    }
   ],
   "source": [
    "vis_filter = np.array([1., np.nan, 1., 1., 1.])[grid]\n",
    "Q = np.random.random((grid.shape[0], grid.shape[1], actions.shape[0]))\n",
    "vis_map = np.max(Q, 2) * vis_filter\n",
    "fig, ax = plt.subplots(1,1)\n",
    "ax = sns.heatmap(vis_map, vmin=-10, vmax=10, cmap='RdBu', cbar = False, ax=ax)\n",
    "ax.grid(True)\n",
    "s = gridworld_init()\n",
    "(sprime, r) = gridworld_step(s, lf)\n",
    "#ax = sns.heatmap(vis_map, cmap='RdBu', annot=True, cbar = False, annot_kws={\"size\": 18})\n",
    "agent_glyph = plt.scatter(sprime[0] + 0.5, sprime[1] + 0.5, marker=\"o\", color=[0.8, 0.8, 0.8], edgecolors='black')\n",
    "plt.show()"
   ]
  },
  {
   "cell_type": "code",
   "execution_count": null,
   "metadata": {},
   "outputs": [],
   "source": [
    "# Creating animated vissualization\n",
    "fig = plt.figure()\n",
    "camera = Camera(fig)\n",
    "\n",
    "for i in range(iteration):\n",
    "    V = trace_V[i]\n",
    "    s = trace_s[i]\n",
    "\n",
    "    camera.snap()\n",
    "\n",
    "animation = camera.animate()\n",
    "plt.show()"
   ]
  },
  {
   "cell_type": "code",
   "execution_count": null,
   "metadata": {},
   "outputs": [],
   "source": [
    "# Playing the animation\n",
    "HTML(animation.to_jshtml())"
   ]
  },
  {
   "cell_type": "code",
   "execution_count": null,
   "metadata": {},
   "outputs": [],
   "source": []
  }
 ],
 "metadata": {
  "kernelspec": {
   "display_name": "Python 3",
   "language": "python",
   "name": "python3"
  },
  "language_info": {
   "codemirror_mode": {
    "name": "ipython",
    "version": 3
   },
   "file_extension": ".py",
   "mimetype": "text/x-python",
   "name": "python",
   "nbconvert_exporter": "python",
   "pygments_lexer": "ipython3",
   "version": "3.7.1"
  }
 },
 "nbformat": 4,
 "nbformat_minor": 2
}
